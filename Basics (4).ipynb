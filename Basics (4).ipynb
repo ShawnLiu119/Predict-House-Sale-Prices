{
 "cells": [
  {
   "cell_type": "code",
   "execution_count": 1,
   "metadata": {
    "collapsed": false
   },
   "outputs": [],
   "source": [
    "import pandas as pd\n",
    "import matplotlib.pyplot as plt\n",
    "import numpy as np\n",
    "\n",
    "from sklearn.metrics import mean_squared_error\n",
    "from sklearn import linear_model\n",
    "from sklearn.model_selection import KFold"
   ]
  },
  {
   "cell_type": "code",
   "execution_count": 2,
   "metadata": {
    "collapsed": true
   },
   "outputs": [],
   "source": [
    "data = pd.read_csv('AmesHousing.tsv', delimiter='\\t')"
   ]
  },
  {
   "cell_type": "code",
   "execution_count": 3,
   "metadata": {
    "collapsed": false
   },
   "outputs": [
    {
     "data": {
      "text/html": [
       "<div>\n",
       "<style scoped>\n",
       "    .dataframe tbody tr th:only-of-type {\n",
       "        vertical-align: middle;\n",
       "    }\n",
       "\n",
       "    .dataframe tbody tr th {\n",
       "        vertical-align: top;\n",
       "    }\n",
       "\n",
       "    .dataframe thead th {\n",
       "        text-align: right;\n",
       "    }\n",
       "</style>\n",
       "<table border=\"1\" class=\"dataframe\">\n",
       "  <thead>\n",
       "    <tr style=\"text-align: right;\">\n",
       "      <th></th>\n",
       "      <th>Order</th>\n",
       "      <th>PID</th>\n",
       "      <th>MS SubClass</th>\n",
       "      <th>MS Zoning</th>\n",
       "      <th>Lot Frontage</th>\n",
       "      <th>Lot Area</th>\n",
       "      <th>Street</th>\n",
       "      <th>Alley</th>\n",
       "      <th>Lot Shape</th>\n",
       "      <th>Land Contour</th>\n",
       "      <th>...</th>\n",
       "      <th>Pool Area</th>\n",
       "      <th>Pool QC</th>\n",
       "      <th>Fence</th>\n",
       "      <th>Misc Feature</th>\n",
       "      <th>Misc Val</th>\n",
       "      <th>Mo Sold</th>\n",
       "      <th>Yr Sold</th>\n",
       "      <th>Sale Type</th>\n",
       "      <th>Sale Condition</th>\n",
       "      <th>SalePrice</th>\n",
       "    </tr>\n",
       "  </thead>\n",
       "  <tbody>\n",
       "    <tr>\n",
       "      <th>0</th>\n",
       "      <td>1</td>\n",
       "      <td>526301100</td>\n",
       "      <td>20</td>\n",
       "      <td>RL</td>\n",
       "      <td>141.0</td>\n",
       "      <td>31770</td>\n",
       "      <td>Pave</td>\n",
       "      <td>NaN</td>\n",
       "      <td>IR1</td>\n",
       "      <td>Lvl</td>\n",
       "      <td>...</td>\n",
       "      <td>0</td>\n",
       "      <td>NaN</td>\n",
       "      <td>NaN</td>\n",
       "      <td>NaN</td>\n",
       "      <td>0</td>\n",
       "      <td>5</td>\n",
       "      <td>2010</td>\n",
       "      <td>WD</td>\n",
       "      <td>Normal</td>\n",
       "      <td>215000</td>\n",
       "    </tr>\n",
       "    <tr>\n",
       "      <th>1</th>\n",
       "      <td>2</td>\n",
       "      <td>526350040</td>\n",
       "      <td>20</td>\n",
       "      <td>RH</td>\n",
       "      <td>80.0</td>\n",
       "      <td>11622</td>\n",
       "      <td>Pave</td>\n",
       "      <td>NaN</td>\n",
       "      <td>Reg</td>\n",
       "      <td>Lvl</td>\n",
       "      <td>...</td>\n",
       "      <td>0</td>\n",
       "      <td>NaN</td>\n",
       "      <td>MnPrv</td>\n",
       "      <td>NaN</td>\n",
       "      <td>0</td>\n",
       "      <td>6</td>\n",
       "      <td>2010</td>\n",
       "      <td>WD</td>\n",
       "      <td>Normal</td>\n",
       "      <td>105000</td>\n",
       "    </tr>\n",
       "  </tbody>\n",
       "</table>\n",
       "<p>2 rows × 82 columns</p>\n",
       "</div>"
      ],
      "text/plain": [
       "   Order        PID  MS SubClass MS Zoning  Lot Frontage  Lot Area Street  \\\n",
       "0      1  526301100           20        RL         141.0     31770   Pave   \n",
       "1      2  526350040           20        RH          80.0     11622   Pave   \n",
       "\n",
       "  Alley Lot Shape Land Contour    ...     Pool Area Pool QC  Fence  \\\n",
       "0   NaN       IR1          Lvl    ...             0     NaN    NaN   \n",
       "1   NaN       Reg          Lvl    ...             0     NaN  MnPrv   \n",
       "\n",
       "  Misc Feature Misc Val Mo Sold Yr Sold Sale Type  Sale Condition  SalePrice  \n",
       "0          NaN        0       5    2010       WD           Normal     215000  \n",
       "1          NaN        0       6    2010       WD           Normal     105000  \n",
       "\n",
       "[2 rows x 82 columns]"
      ]
     },
     "execution_count": 3,
     "metadata": {},
     "output_type": "execute_result"
    }
   ],
   "source": [
    "data.head(2)"
   ]
  },
  {
   "cell_type": "code",
   "execution_count": 4,
   "metadata": {
    "collapsed": false
   },
   "outputs": [],
   "source": [
    "def transform_features(df):\n",
    "    return df\n",
    "\n",
    "def select_features(df):\n",
    "    return df[['Gr Liv Area','SalePrice']]\n",
    "\n",
    "def train_and_test(df):\n",
    "    train = df[:1460]\n",
    "    test = df[1460:]\n",
    "    num_train = train.select_dtypes(include=['int','float'])\n",
    "    num_test = test.select_dtypes(include=['int', 'float'])\n",
    "    #return the column names and type as series\n",
    "    \n",
    "    features = num_train.columns.drop('SalePrice')\n",
    "    lr = linear_model.LinearRegression()\n",
    "    lr.fit(train[features], train['SalePrice'])\n",
    "    prediction_train = lr.predict(train[features])\n",
    "    prediction_test = lr.predict(test[features])\n",
    "    mse_train = mean_squared_error(prediction_train, train['SalePrice'])\n",
    "    mse_test = mean_squared_error(prediction_test, test['SalePrice'])\n",
    "    rmse_train = np.sqrt(mse_train)\n",
    "    rmse_test = np.sqrt(mse_test)\n",
    "    return rmse_test\n",
    "\n",
    "transform_df = transform_features(data)\n",
    "filtered_df = select_features(transform_df)\n",
    "rmse = train_and_test(filtered_df)"
   ]
  },
  {
   "cell_type": "markdown",
   "metadata": {},
   "source": [
    "# Feature Engineer"
   ]
  },
  {
   "cell_type": "markdown",
   "metadata": {},
   "source": [
    "Feature Engineering\n",
    "Handle missing values:\n",
    "All columns:\n",
    "Drop any with 5% or more missing values for now.\n",
    "Text columns:\n",
    "Drop any with 1 or more missing values for now.\n",
    "Numerical columns:\n",
    "For columns with missing values, fill in with the most common value in that column"
   ]
  },
  {
   "cell_type": "code",
   "execution_count": 5,
   "metadata": {
    "collapsed": false
   },
   "outputs": [
    {
     "data": {
      "text/plain": [
       "Order                0\n",
       "PID                  0\n",
       "MS SubClass          0\n",
       "MS Zoning            0\n",
       "Lot Frontage       490\n",
       "Lot Area             0\n",
       "Street               0\n",
       "Alley             2732\n",
       "Lot Shape            0\n",
       "Land Contour         0\n",
       "Utilities            0\n",
       "Lot Config           0\n",
       "Land Slope           0\n",
       "Neighborhood         0\n",
       "Condition 1          0\n",
       "Condition 2          0\n",
       "Bldg Type            0\n",
       "House Style          0\n",
       "Overall Qual         0\n",
       "Overall Cond         0\n",
       "Year Built           0\n",
       "Year Remod/Add       0\n",
       "Roof Style           0\n",
       "Roof Matl            0\n",
       "Exterior 1st         0\n",
       "Exterior 2nd         0\n",
       "Mas Vnr Type        23\n",
       "Mas Vnr Area        23\n",
       "Exter Qual           0\n",
       "Exter Cond           0\n",
       "                  ... \n",
       "Bedroom AbvGr        0\n",
       "Kitchen AbvGr        0\n",
       "Kitchen Qual         0\n",
       "TotRms AbvGrd        0\n",
       "Functional           0\n",
       "Fireplaces           0\n",
       "Fireplace Qu      1422\n",
       "Garage Type        157\n",
       "Garage Yr Blt      159\n",
       "Garage Finish      159\n",
       "Garage Cars          1\n",
       "Garage Area          1\n",
       "Garage Qual        159\n",
       "Garage Cond        159\n",
       "Paved Drive          0\n",
       "Wood Deck SF         0\n",
       "Open Porch SF        0\n",
       "Enclosed Porch       0\n",
       "3Ssn Porch           0\n",
       "Screen Porch         0\n",
       "Pool Area            0\n",
       "Pool QC           2917\n",
       "Fence             2358\n",
       "Misc Feature      2824\n",
       "Misc Val             0\n",
       "Mo Sold              0\n",
       "Yr Sold              0\n",
       "Sale Type            0\n",
       "Sale Condition       0\n",
       "SalePrice            0\n",
       "Length: 82, dtype: int64"
      ]
     },
     "execution_count": 5,
     "metadata": {},
     "output_type": "execute_result"
    }
   ],
   "source": [
    "data.isnull().sum()"
   ]
  },
  {
   "cell_type": "code",
   "execution_count": 6,
   "metadata": {
    "collapsed": false
   },
   "outputs": [
    {
     "data": {
      "text/plain": [
       "(2930, 82)"
      ]
     },
     "execution_count": 6,
     "metadata": {},
     "output_type": "execute_result"
    }
   ],
   "source": [
    "data.shape"
   ]
  },
  {
   "cell_type": "markdown",
   "metadata": {},
   "source": [
    "1. Drop any with 5% or more missing values for now."
   ]
  },
  {
   "cell_type": "code",
   "execution_count": 7,
   "metadata": {
    "collapsed": false,
    "scrolled": true
   },
   "outputs": [],
   "source": [
    "nul_count = data.isnull().sum()"
   ]
  },
  {
   "cell_type": "code",
   "execution_count": 8,
   "metadata": {
    "collapsed": false
   },
   "outputs": [],
   "source": [
    "drop_col = nul_count[nul_count > (len(data)/20)].sort_values() "
   ]
  },
  {
   "cell_type": "code",
   "execution_count": 9,
   "metadata": {
    "collapsed": false,
    "scrolled": false
   },
   "outputs": [
    {
     "name": "stdout",
     "output_type": "stream",
     "text": [
      "Garage Type       157\n",
      "Garage Yr Blt     159\n",
      "Garage Finish     159\n",
      "Garage Qual       159\n",
      "Garage Cond       159\n",
      "Lot Frontage      490\n",
      "Fireplace Qu     1422\n",
      "Fence            2358\n",
      "Alley            2732\n",
      "Misc Feature     2824\n",
      "Pool QC          2917\n",
      "dtype: int64\n"
     ]
    }
   ],
   "source": [
    "print(drop_col)"
   ]
  },
  {
   "cell_type": "code",
   "execution_count": 10,
   "metadata": {
    "collapsed": true
   },
   "outputs": [],
   "source": [
    "data = data.drop(drop_col.index, axis=1)"
   ]
  },
  {
   "cell_type": "markdown",
   "metadata": {},
   "source": [
    "2. Text columns: Drop any with 1 or more missing values for now"
   ]
  },
  {
   "cell_type": "code",
   "execution_count": 11,
   "metadata": {
    "collapsed": true
   },
   "outputs": [],
   "source": [
    "text_col = data.select_dtypes(include=['object'])\n",
    "text_nul_count = text_col.isnull().sum().sort_values(ascending=False)\n",
    "drop_txt_col = text_nul_count[text_nul_count > 0].index\n",
    "data = data.drop(drop_txt_col, axis=1)"
   ]
  },
  {
   "cell_type": "markdown",
   "metadata": {},
   "source": [
    "3. Numerical columns: For columns with missing values, fill in with the most common value in that column"
   ]
  },
  {
   "cell_type": "code",
   "execution_count": 12,
   "metadata": {
    "collapsed": true
   },
   "outputs": [],
   "source": [
    "num_col = data.select_dtypes(include=['int','float']).columns\n",
    "data[num_col] = data[num_col].fillna(data.mode())\n",
    "#fill the missing values in numeric columns with mean of values of that column"
   ]
  },
  {
   "cell_type": "code",
   "execution_count": 13,
   "metadata": {
    "collapsed": false
   },
   "outputs": [
    {
     "data": {
      "text/plain": [
       "Order               0\n",
       "PID                 0\n",
       "MS SubClass         0\n",
       "MS Zoning           0\n",
       "Lot Area            0\n",
       "Street              0\n",
       "Lot Shape           0\n",
       "Land Contour        0\n",
       "Utilities           0\n",
       "Lot Config          0\n",
       "Land Slope          0\n",
       "Neighborhood        0\n",
       "Condition 1         0\n",
       "Condition 2         0\n",
       "Bldg Type           0\n",
       "House Style         0\n",
       "Overall Qual        0\n",
       "Overall Cond        0\n",
       "Year Built          0\n",
       "Year Remod/Add      0\n",
       "Roof Style          0\n",
       "Roof Matl           0\n",
       "Exterior 1st        0\n",
       "Exterior 2nd        0\n",
       "Mas Vnr Area       23\n",
       "Exter Qual          0\n",
       "Exter Cond          0\n",
       "Foundation          0\n",
       "BsmtFin SF 1        1\n",
       "BsmtFin SF 2        1\n",
       "                   ..\n",
       "Central Air         0\n",
       "1st Flr SF          0\n",
       "2nd Flr SF          0\n",
       "Low Qual Fin SF     0\n",
       "Gr Liv Area         0\n",
       "Bsmt Full Bath      2\n",
       "Bsmt Half Bath      2\n",
       "Full Bath           0\n",
       "Half Bath           0\n",
       "Bedroom AbvGr       0\n",
       "Kitchen AbvGr       0\n",
       "Kitchen Qual        0\n",
       "TotRms AbvGrd       0\n",
       "Functional          0\n",
       "Fireplaces          0\n",
       "Garage Cars         1\n",
       "Garage Area         1\n",
       "Paved Drive         0\n",
       "Wood Deck SF        0\n",
       "Open Porch SF       0\n",
       "Enclosed Porch      0\n",
       "3Ssn Porch          0\n",
       "Screen Porch        0\n",
       "Pool Area           0\n",
       "Misc Val            0\n",
       "Mo Sold             0\n",
       "Yr Sold             0\n",
       "Sale Type           0\n",
       "Sale Condition      0\n",
       "SalePrice           0\n",
       "Length: 64, dtype: int64"
      ]
     },
     "execution_count": 13,
     "metadata": {},
     "output_type": "execute_result"
    }
   ],
   "source": [
    "data.isnull().sum()"
   ]
  },
  {
   "cell_type": "markdown",
   "metadata": {},
   "source": [
    "Question on how we can create new features. "
   ]
  },
  {
   "cell_type": "code",
   "execution_count": 14,
   "metadata": {
    "collapsed": false
   },
   "outputs": [],
   "source": [
    "years_sold = data['Yr Sold'] - data['Year Built']\n",
    "drop_year_1 = years_sold[years_sold < 0].index"
   ]
  },
  {
   "cell_type": "markdown",
   "metadata": {},
   "source": [
    "There is no row that year sold is earlier than built, which is good"
   ]
  },
  {
   "cell_type": "code",
   "execution_count": 15,
   "metadata": {
    "collapsed": false
   },
   "outputs": [],
   "source": [
    "year_since_remod = data['Yr Sold'] - data['Year Remod/Add']\n",
    "drop_year_2 = year_since_remod[year_since_remod < 0].index"
   ]
  },
  {
   "cell_type": "code",
   "execution_count": 16,
   "metadata": {
    "collapsed": false
   },
   "outputs": [
    {
     "name": "stdout",
     "output_type": "stream",
     "text": [
      "Int64Index([1702, 2180, 2181], dtype='int64')\n"
     ]
    }
   ],
   "source": [
    "print(drop_year_2)"
   ]
  },
  {
   "cell_type": "markdown",
   "metadata": {},
   "source": [
    "need to drop these three rows. "
   ]
  },
  {
   "cell_type": "code",
   "execution_count": 17,
   "metadata": {
    "collapsed": false
   },
   "outputs": [],
   "source": [
    "data['years_blt_to_sale'] = years_sold\n",
    "data['year_since_remod'] = year_since_remod"
   ]
  },
  {
   "cell_type": "code",
   "execution_count": 18,
   "metadata": {
    "collapsed": false
   },
   "outputs": [],
   "source": [
    "data = data.drop([1702, 2180, 2181], axis=0)\n",
    "#drop rows with negative year difference in both columns\n",
    "\n",
    "data = data.drop(['Year Built', 'Year Remod/Add'], axis=1)\n",
    "#since we already create new columnes, we can just delete these two original cols"
   ]
  },
  {
   "cell_type": "markdown",
   "metadata": {
    "collapsed": true
   },
   "source": [
    "for next step, Drop columns that:\n",
    "\n",
    "that aren't useful for ML\n",
    "leak data about the final sale, read more about columns here\n",
    "for example, PID is just the id for property, the number is not ordinal and is not meaningful for our regression\n",
    "also, the column associated with final sales includes \n",
    "Mo Sold \n",
    "Yr Sold             \n",
    "Sale Type           \n",
    "Sale Condition      "
   ]
  },
  {
   "cell_type": "code",
   "execution_count": 19,
   "metadata": {
    "collapsed": true
   },
   "outputs": [],
   "source": [
    "data = data.drop(['PID','Order'],axis=1)\n",
    "\n",
    "data = data.drop(['Mo Sold','Yr Sold','Sale Type','Sale Condition'],axis=1)"
   ]
  },
  {
   "cell_type": "code",
   "execution_count": 20,
   "metadata": {
    "collapsed": true
   },
   "outputs": [],
   "source": [
    "#fill up the function we defined earlier\n",
    "def transform_features(df):\n",
    "    nul_count = df.isnull().sum()\n",
    "    drop_col = nul_count[nul_count > (len(df)/20)].sort_values() \n",
    "    df = df.drop(drop_col.index, axis=1)\n",
    "    \n",
    "    text_col = df.select_dtypes(include=['object'])\n",
    "    text_nul_count = text_col.isnull().sum().sort_values(ascending=False)\n",
    "    drop_txt_col = text_nul_count[text_nul_count > 0].index\n",
    "    df = df.drop(drop_txt_col, axis=1)\n",
    "    \n",
    "    num_col = df.select_dtypes(include=['int','float']).columns\n",
    "    df[num_col] = df[num_col].fillna(df.mode())\n",
    "    \n",
    "    years_sold = df['Yr Sold'] - df['Year Built']\n",
    "    drop_year_1 = years_sold[years_sold < 0].index\n",
    "    \n",
    "    year_since_remod = df['Yr Sold'] - df['Year Remod/Add']\n",
    "    drop_year_2 = year_since_remod[year_since_remod < 0].index\n",
    "    \n",
    "    df['years_blt_to_sale'] = years_sold\n",
    "    df['year_since_remod'] = year_since_remod\n",
    "    \n",
    "    df = df.drop([1702, 2180, 2181], axis=0)\n",
    "    df = df.drop(['Year Built', 'Year Remod/Add'], axis=1)\n",
    "    \n",
    "    df = data.drop(['PID','Order'],axis=1)\n",
    "    df = data.drop(['Mo Sold','Yr Sold','Sale Type','Sale Condition'],axis=1)\n",
    "    \n",
    "    return df"
   ]
  },
  {
   "cell_type": "markdown",
   "metadata": {},
   "source": [
    "# Feature Selection"
   ]
  },
  {
   "cell_type": "markdown",
   "metadata": {},
   "source": [
    "Generate a correlation heatmap matrix of the numerical features in the training data set."
   ]
  },
  {
   "cell_type": "code",
   "execution_count": 21,
   "metadata": {
    "collapsed": false,
    "scrolled": true
   },
   "outputs": [
    {
     "data": {
      "text/html": [
       "<div>\n",
       "<style scoped>\n",
       "    .dataframe tbody tr th:only-of-type {\n",
       "        vertical-align: middle;\n",
       "    }\n",
       "\n",
       "    .dataframe tbody tr th {\n",
       "        vertical-align: top;\n",
       "    }\n",
       "\n",
       "    .dataframe thead th {\n",
       "        text-align: right;\n",
       "    }\n",
       "</style>\n",
       "<table border=\"1\" class=\"dataframe\">\n",
       "  <thead>\n",
       "    <tr style=\"text-align: right;\">\n",
       "      <th></th>\n",
       "      <th>MS SubClass</th>\n",
       "      <th>Lot Area</th>\n",
       "      <th>Overall Qual</th>\n",
       "      <th>Overall Cond</th>\n",
       "      <th>Mas Vnr Area</th>\n",
       "      <th>BsmtFin SF 1</th>\n",
       "      <th>BsmtFin SF 2</th>\n",
       "      <th>Bsmt Unf SF</th>\n",
       "      <th>Total Bsmt SF</th>\n",
       "      <th>1st Flr SF</th>\n",
       "      <th>...</th>\n",
       "      <th>Wood Deck SF</th>\n",
       "      <th>Open Porch SF</th>\n",
       "      <th>Enclosed Porch</th>\n",
       "      <th>3Ssn Porch</th>\n",
       "      <th>Screen Porch</th>\n",
       "      <th>Pool Area</th>\n",
       "      <th>Misc Val</th>\n",
       "      <th>SalePrice</th>\n",
       "      <th>years_blt_to_sale</th>\n",
       "      <th>year_since_remod</th>\n",
       "    </tr>\n",
       "  </thead>\n",
       "  <tbody>\n",
       "    <tr>\n",
       "      <th>0</th>\n",
       "      <td>20</td>\n",
       "      <td>31770</td>\n",
       "      <td>6</td>\n",
       "      <td>5</td>\n",
       "      <td>112.0</td>\n",
       "      <td>639.0</td>\n",
       "      <td>0.0</td>\n",
       "      <td>441.0</td>\n",
       "      <td>1080.0</td>\n",
       "      <td>1656</td>\n",
       "      <td>...</td>\n",
       "      <td>210</td>\n",
       "      <td>62</td>\n",
       "      <td>0</td>\n",
       "      <td>0</td>\n",
       "      <td>0</td>\n",
       "      <td>0</td>\n",
       "      <td>0</td>\n",
       "      <td>215000</td>\n",
       "      <td>50</td>\n",
       "      <td>50</td>\n",
       "    </tr>\n",
       "    <tr>\n",
       "      <th>1</th>\n",
       "      <td>20</td>\n",
       "      <td>11622</td>\n",
       "      <td>5</td>\n",
       "      <td>6</td>\n",
       "      <td>0.0</td>\n",
       "      <td>468.0</td>\n",
       "      <td>144.0</td>\n",
       "      <td>270.0</td>\n",
       "      <td>882.0</td>\n",
       "      <td>896</td>\n",
       "      <td>...</td>\n",
       "      <td>140</td>\n",
       "      <td>0</td>\n",
       "      <td>0</td>\n",
       "      <td>0</td>\n",
       "      <td>120</td>\n",
       "      <td>0</td>\n",
       "      <td>0</td>\n",
       "      <td>105000</td>\n",
       "      <td>49</td>\n",
       "      <td>49</td>\n",
       "    </tr>\n",
       "    <tr>\n",
       "      <th>2</th>\n",
       "      <td>20</td>\n",
       "      <td>14267</td>\n",
       "      <td>6</td>\n",
       "      <td>6</td>\n",
       "      <td>108.0</td>\n",
       "      <td>923.0</td>\n",
       "      <td>0.0</td>\n",
       "      <td>406.0</td>\n",
       "      <td>1329.0</td>\n",
       "      <td>1329</td>\n",
       "      <td>...</td>\n",
       "      <td>393</td>\n",
       "      <td>36</td>\n",
       "      <td>0</td>\n",
       "      <td>0</td>\n",
       "      <td>0</td>\n",
       "      <td>0</td>\n",
       "      <td>12500</td>\n",
       "      <td>172000</td>\n",
       "      <td>52</td>\n",
       "      <td>52</td>\n",
       "    </tr>\n",
       "    <tr>\n",
       "      <th>3</th>\n",
       "      <td>20</td>\n",
       "      <td>11160</td>\n",
       "      <td>7</td>\n",
       "      <td>5</td>\n",
       "      <td>0.0</td>\n",
       "      <td>1065.0</td>\n",
       "      <td>0.0</td>\n",
       "      <td>1045.0</td>\n",
       "      <td>2110.0</td>\n",
       "      <td>2110</td>\n",
       "      <td>...</td>\n",
       "      <td>0</td>\n",
       "      <td>0</td>\n",
       "      <td>0</td>\n",
       "      <td>0</td>\n",
       "      <td>0</td>\n",
       "      <td>0</td>\n",
       "      <td>0</td>\n",
       "      <td>244000</td>\n",
       "      <td>42</td>\n",
       "      <td>42</td>\n",
       "    </tr>\n",
       "    <tr>\n",
       "      <th>4</th>\n",
       "      <td>60</td>\n",
       "      <td>13830</td>\n",
       "      <td>5</td>\n",
       "      <td>5</td>\n",
       "      <td>0.0</td>\n",
       "      <td>791.0</td>\n",
       "      <td>0.0</td>\n",
       "      <td>137.0</td>\n",
       "      <td>928.0</td>\n",
       "      <td>928</td>\n",
       "      <td>...</td>\n",
       "      <td>212</td>\n",
       "      <td>34</td>\n",
       "      <td>0</td>\n",
       "      <td>0</td>\n",
       "      <td>0</td>\n",
       "      <td>0</td>\n",
       "      <td>0</td>\n",
       "      <td>189900</td>\n",
       "      <td>13</td>\n",
       "      <td>12</td>\n",
       "    </tr>\n",
       "  </tbody>\n",
       "</table>\n",
       "<p>5 rows × 33 columns</p>\n",
       "</div>"
      ],
      "text/plain": [
       "   MS SubClass  Lot Area  Overall Qual  Overall Cond  Mas Vnr Area  \\\n",
       "0           20     31770             6             5         112.0   \n",
       "1           20     11622             5             6           0.0   \n",
       "2           20     14267             6             6         108.0   \n",
       "3           20     11160             7             5           0.0   \n",
       "4           60     13830             5             5           0.0   \n",
       "\n",
       "   BsmtFin SF 1  BsmtFin SF 2  Bsmt Unf SF  Total Bsmt SF  1st Flr SF  \\\n",
       "0         639.0           0.0        441.0         1080.0        1656   \n",
       "1         468.0         144.0        270.0          882.0         896   \n",
       "2         923.0           0.0        406.0         1329.0        1329   \n",
       "3        1065.0           0.0       1045.0         2110.0        2110   \n",
       "4         791.0           0.0        137.0          928.0         928   \n",
       "\n",
       "         ...         Wood Deck SF  Open Porch SF  Enclosed Porch  3Ssn Porch  \\\n",
       "0        ...                  210             62               0           0   \n",
       "1        ...                  140              0               0           0   \n",
       "2        ...                  393             36               0           0   \n",
       "3        ...                    0              0               0           0   \n",
       "4        ...                  212             34               0           0   \n",
       "\n",
       "   Screen Porch  Pool Area  Misc Val  SalePrice  years_blt_to_sale  \\\n",
       "0             0          0         0     215000                 50   \n",
       "1           120          0         0     105000                 49   \n",
       "2             0          0     12500     172000                 52   \n",
       "3             0          0         0     244000                 42   \n",
       "4             0          0         0     189900                 13   \n",
       "\n",
       "   year_since_remod  \n",
       "0                50  \n",
       "1                49  \n",
       "2                52  \n",
       "3                42  \n",
       "4                12  \n",
       "\n",
       "[5 rows x 33 columns]"
      ]
     },
     "execution_count": 21,
     "metadata": {},
     "output_type": "execute_result"
    }
   ],
   "source": [
    "#first let's pick numerical columns from all columns\n",
    "num_features = data.select_dtypes(include=['int','float'])\n",
    "num_features.head(5)"
   ]
  },
  {
   "cell_type": "code",
   "execution_count": 22,
   "metadata": {
    "collapsed": false
   },
   "outputs": [
    {
     "data": {
      "text/plain": [
       "<matplotlib.axes._subplots.AxesSubplot at 0x7f4a6e46c320>"
      ]
     },
     "execution_count": 22,
     "metadata": {},
     "output_type": "execute_result"
    }
   ],
   "source": [
    "import seaborn as sns\n",
    "sns.heatmap(num_features)"
   ]
  },
  {
   "cell_type": "code",
   "execution_count": 23,
   "metadata": {
    "collapsed": false
   },
   "outputs": [
    {
     "name": "stdout",
     "output_type": "stream",
     "text": [
      "SalePrice            1.000000\n",
      "Overall Qual         0.801206\n",
      "Gr Liv Area          0.717596\n",
      "Garage Cars          0.648427\n",
      "Total Bsmt SF        0.643782\n",
      "Garage Area          0.641690\n",
      "1st Flr SF           0.635185\n",
      "years_blt_to_sale    0.558979\n",
      "Full Bath            0.546118\n",
      "year_since_remod     0.534985\n",
      "Mas Vnr Area         0.513121\n",
      "TotRms AbvGrd        0.498574\n",
      "Fireplaces           0.474831\n",
      "BsmtFin SF 1         0.439051\n",
      "Wood Deck SF         0.328183\n",
      "Open Porch SF        0.316262\n",
      "Half Bath            0.284871\n",
      "Bsmt Full Bath       0.276486\n",
      "2nd Flr SF           0.269601\n",
      "Lot Area             0.267520\n",
      "Bsmt Unf SF          0.182299\n",
      "Bedroom AbvGr        0.143916\n",
      "Enclosed Porch       0.128685\n",
      "Kitchen AbvGr        0.119760\n",
      "Screen Porch         0.112280\n",
      "Overall Cond         0.101540\n",
      "MS SubClass          0.085128\n",
      "Pool Area            0.068438\n",
      "Low Qual Fin SF      0.037629\n",
      "Bsmt Half Bath       0.035894\n",
      "3Ssn Porch           0.032268\n",
      "Misc Val             0.019273\n",
      "BsmtFin SF 2         0.006001\n",
      "Name: SalePrice, dtype: float64\n"
     ]
    }
   ],
   "source": [
    "coeffi = num_features.corr()['SalePrice'].abs().sort_values(ascending=False)\n",
    "print(coeffi)"
   ]
  },
  {
   "cell_type": "code",
   "execution_count": 24,
   "metadata": {
    "collapsed": false,
    "scrolled": true
   },
   "outputs": [
    {
     "name": "stdout",
     "output_type": "stream",
     "text": [
      "Wood Deck SF       0.328183\n",
      "Open Porch SF      0.316262\n",
      "Half Bath          0.284871\n",
      "Bsmt Full Bath     0.276486\n",
      "2nd Flr SF         0.269601\n",
      "Lot Area           0.267520\n",
      "Bsmt Unf SF        0.182299\n",
      "Bedroom AbvGr      0.143916\n",
      "Enclosed Porch     0.128685\n",
      "Kitchen AbvGr      0.119760\n",
      "Screen Porch       0.112280\n",
      "Overall Cond       0.101540\n",
      "MS SubClass        0.085128\n",
      "Pool Area          0.068438\n",
      "Low Qual Fin SF    0.037629\n",
      "Bsmt Half Bath     0.035894\n",
      "3Ssn Porch         0.032268\n",
      "Misc Val           0.019273\n",
      "BsmtFin SF 2       0.006001\n",
      "Name: SalePrice, dtype: float64\n"
     ]
    }
   ],
   "source": [
    "#we can just keep features with higher coefficiency with the SalePrice, the threshhold i will pick is features_high = coeffi(coeffi>\n",
    "#need to filter out non-relavant numerical columns and remove from the dataframe, should not leave highly-corelated columns because that will remove category columns as well\n",
    "low_col = coeffi[coeffi<0.4]\n",
    "print(low_col)\n"
   ]
  },
  {
   "cell_type": "code",
   "execution_count": 25,
   "metadata": {
    "collapsed": false
   },
   "outputs": [
    {
     "name": "stdout",
     "output_type": "stream",
     "text": [
      "Index(['MS Zoning', 'Street', 'Lot Shape', 'Land Contour', 'Utilities',\n",
      "       'Lot Config', 'Land Slope', 'Neighborhood', 'Condition 1',\n",
      "       'Condition 2', 'Bldg Type', 'House Style', 'Overall Qual', 'Roof Style',\n",
      "       'Roof Matl', 'Exterior 1st', 'Exterior 2nd', 'Mas Vnr Area',\n",
      "       'Exter Qual', 'Exter Cond', 'Foundation', 'BsmtFin SF 1',\n",
      "       'Total Bsmt SF', 'Heating', 'Heating QC', 'Central Air', '1st Flr SF',\n",
      "       'Gr Liv Area', 'Full Bath', 'Kitchen Qual', 'TotRms AbvGrd',\n",
      "       'Functional', 'Fireplaces', 'Garage Cars', 'Garage Area', 'Paved Drive',\n",
      "       'SalePrice', 'years_blt_to_sale', 'year_since_remod'],\n",
      "      dtype='object')\n"
     ]
    }
   ],
   "source": [
    "data_remove_low_num = data.drop(low_col.index, axis=1)\n",
    "print(data_remove_low_num.columns)"
   ]
  },
  {
   "cell_type": "code",
   "execution_count": 26,
   "metadata": {
    "collapsed": true
   },
   "outputs": [],
   "source": [
    "nominal_features = [\"PID\", \"MS SubClass\", \"MS Zoning\", \"Street\", \"Alley\", \"Land Contour\", \"Lot Config\", \"Neighborhood\", \n",
    "                    \"Condition 1\", \"Condition 2\", \"Bldg Type\", \"House Style\", \"Roof Style\", \"Roof Matl\", \"Exterior 1st\", \n",
    "                    \"Exterior 2nd\", \"Mas Vnr Type\", \"Foundation\", \"Heating\", \"Central Air\", \"Garage Type\", \n",
    "                    \"Misc Feature\", \"Sale Type\", \"Sale Condition\"]\n",
    "#based on documents for columns"
   ]
  },
  {
   "cell_type": "markdown",
   "metadata": {},
   "source": [
    "Which columns in the data frame should be converted to the categorical data type? All of the columns that can be categorized as nominal variables are candidates for being converted to categorical. Here are some other things you should think about:\n",
    "\n",
    "If a categorical column has hundreds of unique values (or categories), should you keep it? When you dummy code this column, hundreds of columns will need to be added back to the data frame.\n",
    "\n",
    "Which categorical columns have a few unique values but more than 95% of the values in the column belong to a specific category? This would be similar to a low variance numerical feature (no variability in the data for the model to capture)."
   ]
  },
  {
   "cell_type": "code",
   "execution_count": 27,
   "metadata": {
    "collapsed": true
   },
   "outputs": [],
   "source": [
    "category_cols = []\n",
    "for col in nominal_features:\n",
    "    if col in data.columns:\n",
    "        category_cols.append(col)"
   ]
  },
  {
   "cell_type": "code",
   "execution_count": 28,
   "metadata": {
    "collapsed": false
   },
   "outputs": [
    {
     "name": "stdout",
     "output_type": "stream",
     "text": [
      "Central Air      2\n",
      "Street           2\n",
      "Land Contour     4\n",
      "Lot Config       5\n",
      "Bldg Type        5\n",
      "Heating          6\n",
      "Roof Style       6\n",
      "Foundation       6\n",
      "MS Zoning        7\n",
      "Condition 2      8\n",
      "House Style      8\n",
      "Roof Matl        8\n",
      "Condition 1      9\n",
      "Exterior 1st    16\n",
      "MS SubClass     16\n",
      "Exterior 2nd    17\n",
      "Neighborhood    28\n",
      "dtype: int64\n"
     ]
    }
   ],
   "source": [
    "#eliminate the columns with too many varies values, we will define, if a column has more than 10 unique values, we will drop off it\n",
    "varies_col = data[category_cols].apply(lambda col: len(col.value_counts())).sort_values()\n",
    "print(varies_col)"
   ]
  },
  {
   "cell_type": "code",
   "execution_count": 29,
   "metadata": {
    "collapsed": false
   },
   "outputs": [
    {
     "name": "stdout",
     "output_type": "stream",
     "text": [
      "Central Air      2\n",
      "Street           2\n",
      "Land Contour     4\n",
      "Exterior 1st    16\n",
      "MS SubClass     16\n",
      "Exterior 2nd    17\n",
      "Neighborhood    28\n",
      "dtype: int64\n"
     ]
    }
   ],
   "source": [
    "varies_col_keep = varies_col[(varies_col <= 10) & (varies_col > 4)]\n",
    "#we don't want columns have too many varies values but also not too focus on 1 or 2 values\n",
    "varies_col_rem = varies_col.drop(varies_col_keep.index)\n",
    "print(varies_col_rem)\n",
    "data = data.drop(varies_col_rem.index, axis=1)"
   ]
  },
  {
   "cell_type": "code",
   "execution_count": 30,
   "metadata": {
    "collapsed": false
   },
   "outputs": [],
   "source": [
    "#convert object-type columns into category columns\n",
    "text_col = data.select_dtypes(include=['object']).columns\n",
    "for col in text_col:\n",
    "    data[col] = data[col].astype('category')\n",
    "    \n",
    "#create dummies column for category columns\n",
    "dummy_df = pd.get_dummies(data.select_dtypes(include=['category']))\n",
    "new_data = pd.concat([data, dummy_df],axis=1)\n",
    "new_data = new_data.drop(text_col, axis=1)"
   ]
  },
  {
   "cell_type": "code",
   "execution_count": 31,
   "metadata": {
    "collapsed": false
   },
   "outputs": [],
   "source": [
    "#fill up the function we defined earlier\n",
    "\n",
    "def transform_features(df):\n",
    "    \n",
    "    nul_count = df.isnull().sum()\n",
    "    drop_col = nul_count[nul_count > (len(df)/20)].sort_values() \n",
    "    df = df.drop(drop_col.index, axis=1)\n",
    "    \n",
    "    text_col = df.select_dtypes(include=['object'])\n",
    "    text_nul_count = text_col.isnull().sum().sort_values(ascending=False)\n",
    "    drop_txt_col = text_nul_count[text_nul_count > 0]\n",
    "    df = df.drop(drop_txt_col.index, axis=1)\n",
    "    \n",
    "    num_missing = df.select_dtypes(include=['int', 'float']).isnull().sum()\n",
    "    fixable_numeric_cols = num_missing[(num_missing < len(df)/20) & (num_missing > 0)].sort_values()\n",
    "    replacement_values_dict = df[fixable_numeric_cols.index].mode().to_dict(orient='records')[0]\n",
    "    df = df.fillna(replacement_values_dict)\n",
    "      \n",
    "    years_sold = df['Yr Sold'] - df['Year Built']\n",
    "    drop_year_1 = years_sold[years_sold < 0].index\n",
    "    \n",
    "    year_since_remod = df['Yr Sold'] - df['Year Remod/Add']\n",
    "    drop_year_2 = year_since_remod[year_since_remod < 0].index\n",
    "    \n",
    "    df['years_blt_to_sale'] = years_sold\n",
    "    df['year_since_remod'] = year_since_remod\n",
    "    \n",
    "    df = df.drop([1702, 2180, 2181], axis=0)\n",
    "    df = df.drop(['Year Built', 'Year Remod/Add'], axis=1)\n",
    "    \n",
    "    df = data.drop(['PID','Order'],axis=1)\n",
    "    df = data.drop(['Mo Sold','Yr Sold','Sale Type','Sale Condition'],axis=1)\n",
    "    \n",
    "    return df\n",
    "\n",
    "def select_features(df):\n",
    "    \n",
    "    num_features = df.select_dtypes(include=['int','float'])\n",
    "    coeffi = num_features.corr()['SalePrice'].abs().sort_values(ascending=False)\n",
    "    low_col = coeffi[coeffi<0.4]\n",
    "    data_remove_low_num = df.drop(low_col.index, axis=1)\n",
    "    \n",
    "    nominal_features = [\"PID\", \"MS SubClass\", \"MS Zoning\", \"Street\", \"Alley\", \"Land Contour\", \"Lot Config\", \"Neighborhood\", \n",
    "                    \"Condition 1\", \"Condition 2\", \"Bldg Type\", \"House Style\", \"Roof Style\", \"Roof Matl\", \"Exterior 1st\", \n",
    "                    \"Exterior 2nd\", \"Mas Vnr Type\", \"Foundation\", \"Heating\", \"Central Air\", \"Garage Type\", \n",
    "                    \"Misc Feature\", \"Sale Type\", \"Sale Condition\"]\n",
    "    category_cols = []\n",
    "    for col in nominal_features:\n",
    "        if col in df.columns:\n",
    "            category_cols.append(col)\n",
    "    varies_col = df[category_cols].apply(lambda col: len(col.value_counts())).sort_values()\n",
    "    varies_col_keep = varies_col[(varies_col <= 10) & (varies_col > 4)]\n",
    "    varies_col_rem = varies_col.drop(varies_col_keep.index)\n",
    "    df = df.drop(varies_col_rem.index, axis=1)\n",
    "    text_col = df.select_dtypes(include=['object']).columns\n",
    "    for col in text_col:\n",
    "        df[col] = df[col].astype('category')\n",
    "    \n",
    "    dummy_df = pd.get_dummies(df.select_dtypes(include=['category']))\n",
    "    new_data = pd.concat([df, dummy_df],axis=1)\n",
    "    new_data = new_data.drop(text_col, axis=1)\n",
    "    \n",
    "    return df\n",
    "\n",
    "\n",
    "def train_and_test(df, k=0):\n",
    "    num_df = df.select_dtypes(include=['int','float'])\n",
    "    features = num_df.columns.drop('SalePrice')\n",
    "    #return the column names and type as series\n",
    "    lr = linear_model.LinearRegression()\n",
    "    \n",
    "    if k == 0:\n",
    "        train = df[:1460]\n",
    "        test = df[1460:]\n",
    "        lr.fit(train[features], train['SalePrice'])\n",
    "        prediction_train = lr.predict(train[features])\n",
    "        prediction_test = lr.predict(test[features])\n",
    "        mse_train = mean_squared_error(prediction_train, train['SalePrice'])\n",
    "        mse_test = mean_squared_error(prediction_test, test['SalePrice'])\n",
    "        rmse_train = np.sqrt(mse_train)\n",
    "        rmse_test = np.sqrt(mse_test)\n",
    "        return rmse_test\n",
    "\n",
    "    if k == 1:\n",
    "        shuffle_df = df.sample(frac=1)\n",
    "        # Randomize *all* rows (frac=1) from `df`\n",
    "        fold_one = df[:1460]\n",
    "        fold_two = df[1460:]\n",
    "        \n",
    "        lr.fit(fold_one[features], fold_one['SalePrice'])\n",
    "        prediction_f2 = lr.predict(fold_two[features])\n",
    "        mse_f2 = mean_squared_error(prediction_f2, fold_two['SalePrice'])\n",
    "        rmse_f2 = np.sqrt(mse_f2)\n",
    "        \n",
    "        lr.fit(fold_two[features], fold_two['SalePrice'])\n",
    "        prediction_f1 = lr.predict(fold_one[features])\n",
    "        mse_f1 = mean_squared_error(prediction_f1, fold_one['SalePrice'])\n",
    "        rmse_f1 = np.sqrt(mse_f1)\n",
    "        \n",
    "        rmse_ave = np.mean([rmse_f1, rmse_f2])\n",
    "        print(rmse_f1)\n",
    "        print(rmse_f2)            \n",
    "        return rmse_ave\n",
    "    else:\n",
    "        kf = KFold(n_splits=k, shuffle=True)\n",
    "        rmse_fold = []\n",
    "        for train_index, test_index, in kf.split(df):\n",
    "            train = df.iloc[train_index]\n",
    "            test = df.iloc[test_index]\n",
    "            lr.fit(train[features], train['SalePrice'])\n",
    "            prediction_test = lr.predict(test[features])\n",
    "            mse_test = mean_squared_error(prediction_test, test['SalePrice'])\n",
    "            rmse_test = np.sqrt(mse_test)\n",
    "            rmse_fold.append(rmse_test)\n",
    "        print(rmse_fold)\n",
    "        rmse_ave =  np.mean(rmse_fold)\n",
    "        return rmse_ave\n",
    "    \n"
   ]
  },
  {
   "cell_type": "code",
   "execution_count": 32,
   "metadata": {
    "collapsed": false
   },
   "outputs": [
    {
     "data": {
      "text/plain": [
       "Order                0\n",
       "PID                  0\n",
       "MS SubClass          0\n",
       "MS Zoning            0\n",
       "Lot Frontage       490\n",
       "Lot Area             0\n",
       "Street               0\n",
       "Alley             2732\n",
       "Lot Shape            0\n",
       "Land Contour         0\n",
       "Utilities            0\n",
       "Lot Config           0\n",
       "Land Slope           0\n",
       "Neighborhood         0\n",
       "Condition 1          0\n",
       "Condition 2          0\n",
       "Bldg Type            0\n",
       "House Style          0\n",
       "Overall Qual         0\n",
       "Overall Cond         0\n",
       "Year Built           0\n",
       "Year Remod/Add       0\n",
       "Roof Style           0\n",
       "Roof Matl            0\n",
       "Exterior 1st         0\n",
       "Exterior 2nd         0\n",
       "Mas Vnr Type        23\n",
       "Mas Vnr Area        23\n",
       "Exter Qual           0\n",
       "Exter Cond           0\n",
       "                  ... \n",
       "Bsmt Full Bath       2\n",
       "Bsmt Half Bath       2\n",
       "Full Bath            0\n",
       "Half Bath            0\n",
       "Bedroom AbvGr        0\n",
       "Kitchen AbvGr        0\n",
       "Kitchen Qual         0\n",
       "TotRms AbvGrd        0\n",
       "Functional           0\n",
       "Fireplaces           0\n",
       "Fireplace Qu      1422\n",
       "Garage Type        157\n",
       "Garage Yr Blt      159\n",
       "Garage Finish      159\n",
       "Garage Cars          1\n",
       "Garage Area          1\n",
       "Garage Qual        159\n",
       "Garage Cond        159\n",
       "Paved Drive          0\n",
       "Wood Deck SF         0\n",
       "Open Porch SF        0\n",
       "Enclosed Porch       0\n",
       "3Ssn Porch           0\n",
       "Screen Porch         0\n",
       "Pool Area            0\n",
       "Pool QC           2917\n",
       "Fence             2358\n",
       "Misc Feature      2824\n",
       "Misc Val             0\n",
       "SalePrice            0\n",
       "Length: 78, dtype: int64"
      ]
     },
     "execution_count": 32,
     "metadata": {},
     "output_type": "execute_result"
    }
   ],
   "source": [
    "data = pd.read_csv('AmesHousing.tsv', delimiter='\\t')\n",
    "transform_data = transform_features(data)\n",
    "filtered_data = select_features(transform_data)\n",
    "transform_data.isnull().sum()"
   ]
  },
  {
   "cell_type": "code",
   "execution_count": null,
   "metadata": {
    "collapsed": true
   },
   "outputs": [],
   "source": []
  }
 ],
 "metadata": {
  "anaconda-cloud": {},
  "kernelspec": {
   "display_name": "Python 3",
   "language": "python",
   "name": "python3"
  },
  "language_info": {
   "codemirror_mode": {
    "name": "ipython",
    "version": 3
   },
   "file_extension": ".py",
   "mimetype": "text/x-python",
   "name": "python",
   "nbconvert_exporter": "python",
   "pygments_lexer": "ipython3",
   "version": "3.4.3"
  }
 },
 "nbformat": 4,
 "nbformat_minor": 2
}
